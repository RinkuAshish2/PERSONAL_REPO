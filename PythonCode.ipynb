{
  "nbformat": 4,
  "nbformat_minor": 0,
  "metadata": {
    "colab": {
      "provenance": [],
      "authorship_tag": "ABX9TyOu3tw4RuQBYNEwBVF07RNF",
      "include_colab_link": true
    },
    "kernelspec": {
      "name": "python3",
      "display_name": "Python 3"
    },
    "language_info": {
      "name": "python"
    }
  },
  "cells": [
    {
      "cell_type": "markdown",
      "metadata": {
        "id": "view-in-github",
        "colab_type": "text"
      },
      "source": [
        "<a href=\"https://colab.research.google.com/github/RinkuAshish2/Python_Datatypes/blob/main/PythonCode.ipynb\" target=\"_parent\"><img src=\"https://colab.research.google.com/assets/colab-badge.svg\" alt=\"Open In Colab\"/></a>"
      ]
    },
    {
      "cell_type": "code",
      "execution_count": null,
      "metadata": {
        "colab": {
          "base_uri": "https://localhost:8080/"
        },
        "id": "_qNG-MNfnu4d",
        "outputId": "ea3cef0d-ac91-416b-ee3d-559b59e6e788"
      },
      "outputs": [
        {
          "output_type": "stream",
          "name": "stdout",
          "text": [
            "\n",
            "Available operations:\n",
            "+\n",
            "-\n",
            "*\n",
            "/\n",
            "**\n",
            "%\n",
            "sqrt\n",
            "sin\n",
            "cos\n",
            "tan\n",
            "log\n",
            "ln\n",
            "exp\n",
            "fact\n",
            "Enter operation (or 'quit' to exit): +\n",
            "Enter first number: 5\n",
            "Enter second number: 8\n",
            "Result: 13.0\n",
            "\n",
            "Available operations:\n",
            "+\n",
            "-\n",
            "*\n",
            "/\n",
            "**\n",
            "%\n",
            "sqrt\n",
            "sin\n",
            "cos\n",
            "tan\n",
            "log\n",
            "ln\n",
            "exp\n",
            "fact\n"
          ]
        }
      ],
      "source": [
        "# prompt: generate an python code of scintefic calculateor\n",
        "\n",
        "import math\n",
        "\n",
        "def scientific_calculator():\n",
        "    \"\"\"\n",
        "    A simple scientific calculator implemented in Python.\n",
        "    \"\"\"\n",
        "\n",
        "    operations = {\n",
        "        \"+\": lambda x, y: x + y,\n",
        "        \"-\": lambda x, y: x - y,\n",
        "        \"*\": lambda x, y: x * y,\n",
        "        \"/\": lambda x, y: x / y if y != 0 else \"Division by zero error\",\n",
        "        \"**\": lambda x, y: x ** y,\n",
        "        \"%\": lambda x, y: x % y,\n",
        "        \"sqrt\": lambda x: math.sqrt(x) if x >= 0 else \"Cannot calculate square root of a negative number\",\n",
        "        \"sin\": lambda x: math.sin(math.radians(x)),\n",
        "        \"cos\": lambda x: math.cos(math.radians(x)),\n",
        "        \"tan\": lambda x: math.tan(math.radians(x)),\n",
        "        \"log\": lambda x: math.log10(x) if x > 0 else \"Cannot calculate logarithm of a non-positive number\",\n",
        "        \"ln\": lambda x: math.log(x) if x > 0 else \"Cannot calculate natural logarithm of a non-positive number\",\n",
        "        \"exp\": lambda x : math.exp(x),\n",
        "        \"fact\": lambda x : math.factorial(x) if x >= 0 and isinstance(x, int) else \"Factorial is not defined for negative or non-integer numbers\"\n",
        "    }\n",
        "\n",
        "    while True:\n",
        "        print(\"\\nAvailable operations:\")\n",
        "        for op in operations:\n",
        "            print(op)\n",
        "\n",
        "        operation = input(\"Enter operation (or 'quit' to exit): \")\n",
        "        if operation.lower() == 'quit':\n",
        "            break\n",
        "\n",
        "        if operation in [\"sqrt\", \"sin\", \"cos\", \"tan\", \"log\", \"ln\", \"exp\", \"fact\"]:\n",
        "            try:\n",
        "                num1 = float(input(\"Enter number: \"))\n",
        "                result = operations[operation](num1)\n",
        "                print(f\"Result: {result}\")\n",
        "            except ValueError:\n",
        "                print(\"Invalid input. Please enter a number.\")\n",
        "            except Exception as e:\n",
        "                print(e) # handle exceptions raised by mathematical functions.\n",
        "        elif operation in operations:\n",
        "            try:\n",
        "                num1 = float(input(\"Enter first number: \"))\n",
        "                num2 = float(input(\"Enter second number: \"))\n",
        "                result = operations[operation](num1, num2)\n",
        "                print(f\"Result: {result}\")\n",
        "            except ValueError:\n",
        "                print(\"Invalid input. Please enter numbers.\")\n",
        "            except Exception as e:\n",
        "                print(e)  # handles ZeroDivisionError\n",
        "        else:\n",
        "            print(\"Invalid operation.\")\n",
        "\n",
        "if __name__ == \"__main__\":\n",
        "    scientific_calculator()"
      ]
    },
    {
      "cell_type": "code",
      "source": [],
      "metadata": {
        "id": "sBU6ax9qoF0z"
      },
      "execution_count": null,
      "outputs": []
    },
    {
      "cell_type": "code",
      "source": [],
      "metadata": {
        "id": "8qKxFmRJpUtH"
      },
      "execution_count": null,
      "outputs": []
    }
  ]
}